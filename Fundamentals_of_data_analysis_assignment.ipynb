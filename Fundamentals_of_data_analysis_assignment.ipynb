{
 "cells": [
  {
   "cell_type": "markdown",
   "metadata": {},
   "source": [
    "#  Fundamentals of Data Analysis \n",
    "## Diarmuid Whelan Assignment 22-10-2018\n",
    "This Jupyter notebook  will analyse Anscombe’s quartet dataset across 4 areas, as follows:\n",
    " - Explain the background to the dataset – who created it, when it was created, and any speculation you can find regarding how it might have been created\n",
    " - Plot the interesting aspects of the dataset\n",
    " - Calculate the descriptive statistics of the variables in the dataset\n",
    " - Explain why the dataset is interesting, referring to the plots and statistics above\n",
    " \n",
    "## Background\n",
    "Anscombe's quartet dataset was created by and English statistician Frank Anscombe in 1973. The dataset was used in a paper published by Anscombe entitled \"Graphs in Statistical Analysis\".\n",
    "\n",
    " "
   ]
  },
  {
   "cell_type": "code",
   "execution_count": null,
   "metadata": {},
   "outputs": [],
   "source": [
    "#Load dataset and packages\n",
    "import pandas\n",
    "import numpy\n",
    "import matplotlib.pyplot as pl\n",
    "#Open the anscombe.CSV FILE\n",
    "anscombe=pandas.read_csv('/Users/diarmuid/untitled folder/GMIT DATA ANALYTICS/anscombe.csv',delimiter=',')\n",
    "print(anscombe)\n",
    "#Print the shape of the data\n",
    "print(anscombe.shape)"
   ]
  },
  {
   "cell_type": "markdown",
   "metadata": {},
   "source": [
    "As seen above the dataset consists of 8 columns of data. 4 XY pairs (X1,YI),(X2,Y2),(X3,Y3),(X4,Y4).\n",
    "\n",
    "\n",
    "## Plotting the Dataset\n",
    "Simple XY scatter plots of each of the XY pairs"
   ]
  },
  {
   "cell_type": "code",
   "execution_count": null,
   "metadata": {},
   "outputs": [],
   "source": [
    "pl.plot(anscombe['x1'],anscombe['y1'],'ks')\n",
    "pl.show()\n",
    "\n",
    "pl.plot(anscombe['x2'],anscombe['y2'],'ks')\n",
    "pl.show()\n",
    "\n",
    "pl.plot(anscombe['x3'],anscombe['y3'],'ks')\n",
    "pl.show()\n",
    "\n",
    "pl.plot(anscombe['x4'],anscombe['y4'],'ks')\n",
    "pl.show()"
   ]
  },
  {
   "cell_type": "markdown",
   "metadata": {},
   "source": [
    "## Descriptive Statistics "
   ]
  },
  {
   "cell_type": "code",
   "execution_count": null,
   "metadata": {},
   "outputs": [],
   "source": [
    "#Print a statistical summary about the dataset\n",
    "print(anscombe.describe()) "
   ]
  },
  {
   "cell_type": "code",
   "execution_count": null,
   "metadata": {},
   "outputs": [],
   "source": []
  }
 ],
 "metadata": {
  "kernelspec": {
   "display_name": "Python 3",
   "language": "python",
   "name": "python3"
  },
  "language_info": {
   "codemirror_mode": {
    "name": "ipython",
    "version": 3
   },
   "file_extension": ".py",
   "mimetype": "text/x-python",
   "name": "python",
   "nbconvert_exporter": "python",
   "pygments_lexer": "ipython3",
   "version": "3.6.5"
  }
 },
 "nbformat": 4,
 "nbformat_minor": 2
}
