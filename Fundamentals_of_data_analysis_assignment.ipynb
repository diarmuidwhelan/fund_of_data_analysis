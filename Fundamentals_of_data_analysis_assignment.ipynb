{
 "cells": [
  {
   "cell_type": "markdown",
   "metadata": {},
   "source": [
    "#  Fundamentals of Data Analysis \n",
    "## Diarmuid Whelan Assignment 22-10-2018\n",
    "This Jupyter notebook  will analyse Anscombe’s quartet dataset across 4 areas, as follows:\n",
    " - Explain the background to the dataset – who created it, when it was created, and any speculation you can find regarding how it might have been created\n",
    " - Plot the interesting aspects of the dataset\n",
    " - Calculate the descriptive statistics of the variables in the dataset\n",
    " - Explain why the dataset is interesting, referring to the plots and statistics above\n",
    " \n",
    "## Background\n",
    "Anscombe's quartet dataset was created by and English statistician Frank Anscombe in 1973. The dataset was used in a paper published by Anscombe entitled \"Graphs in Statistical Analysis\".\n",
    "\n",
    " "
   ]
  },
  {
   "cell_type": "code",
   "execution_count": 6,
   "metadata": {},
   "outputs": [
    {
     "name": "stdout",
     "output_type": "stream",
     "text": [
      "[[  nan   nan   nan   nan   nan   nan   nan   nan   nan]\n",
      " [  nan 10.   10.   10.    8.    8.04  9.14  7.46  6.58]\n",
      " [  nan  8.    8.    8.    8.    6.95  8.14  6.77  5.76]\n",
      " [  nan 13.   13.   13.    8.    7.58  8.74 12.74  7.71]\n",
      " [  nan  9.    9.    9.    8.    8.81  8.77  7.11  8.84]\n",
      " [  nan 11.   11.   11.    8.    8.33  9.26  7.81  8.47]\n",
      " [  nan 14.   14.   14.    8.    9.96  8.1   8.84  7.04]\n",
      " [  nan  6.    6.    6.    8.    7.24  6.13  6.08  5.25]\n",
      " [  nan  4.    4.    4.   19.    4.26  3.1   5.39 12.5 ]\n",
      " [  nan 12.   12.   12.    8.   10.84  9.13  8.15  5.56]\n",
      " [  nan  7.    7.    7.    8.    4.82  7.26  6.42  7.91]\n",
      " [  nan  5.    5.    5.    8.    5.68  4.74  5.73  6.89]]\n"
     ]
    }
   ],
   "source": [
    "#Load dataset and packages\n",
    "import pandas\n",
    "import numpy\n",
    "import matplotlib.pyplot as pl\n",
    "#Open the IRIS.CSV FILE\n",
    "anscombe=numpy.genfromtxt('/Users/diarmuid/untitled folder/GMIT DATA ANALYTICS/anscombe.csv',delimiter=',')\n",
    "print(anscombe)"
   ]
  },
  {
   "cell_type": "code",
   "execution_count": null,
   "metadata": {},
   "outputs": [],
   "source": []
  }
 ],
 "metadata": {
  "kernelspec": {
   "display_name": "Python 3",
   "language": "python",
   "name": "python3"
  },
  "language_info": {
   "codemirror_mode": {
    "name": "ipython",
    "version": 3
   },
   "file_extension": ".py",
   "mimetype": "text/x-python",
   "name": "python",
   "nbconvert_exporter": "python",
   "pygments_lexer": "ipython3",
   "version": "3.6.5"
  }
 },
 "nbformat": 4,
 "nbformat_minor": 2
}
