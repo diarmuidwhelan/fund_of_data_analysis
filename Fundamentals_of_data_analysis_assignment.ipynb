{
 "cells": [
  {
   "cell_type": "markdown",
   "metadata": {},
   "source": [
    "#  Fundamentals of Data Analysis \n",
    "## Diarmuid Whelan Assignment 22-10-2018\n",
    "This Jupyter notebook  will analyse Anscombe’s quartet dataset across 4 areas, as follows:\n",
    " - Explain the background to the dataset – who created it, when it was created, and any speculation you can find regarding how it might have been created\n",
    " - Plot the interesting aspects of the dataset\n",
    " - Calculate the descriptive statistics of the variables in the dataset\n",
    " - Explain why the dataset is interesting, referring to the plots and statistics above\n",
    " \n",
    "## Background\n",
    "Anscombe's quartet dataset was created by and English statistician Frank Anscombe in 1973. The dataset was used in a paper published by Anscombe entitled \"Graphs in Statistical Analysis\".\n",
    "\n",
    " "
   ]
  },
  {
   "cell_type": "code",
   "execution_count": null,
   "metadata": {},
   "outputs": [],
   "source": [
    "#Load dataset and packages\n",
    "import pandas\n",
    "import numpy\n",
    "import matplotlib.pyplot as pl\n",
    "#Open the anscombe.CSV FILE\n",
    "anscombe=pandas.read_csv('/Users/diarmuid/untitled folder/GMIT DATA ANALYTICS/anscombe.csv',delimiter=',')\n",
    "print(anscombe)\n",
    "#Print the shape of the data\n",
    "print(anscombe.shape)"
   ]
  },
  {
   "cell_type": "markdown",
   "metadata": {},
   "source": [
    "As seen above the dataset consists of 8 columns of data. 4 XY pairs (X1,YI),(X2,Y2),(X3,Y3),(X4,Y4).\n",
    "\n",
    "\n",
    "## Plotting the Dataset\n",
    "Simple XY scatter plots of each of the XY pairs"
   ]
  },
  {
   "cell_type": "code",
   "execution_count": null,
   "metadata": {},
   "outputs": [],
   "source": [
    "pl.plot(anscombe['x1'],anscombe['y1'],'ks')\n",
    "# Set some properties for the plot.\n",
    "pl.xlabel('X1')\n",
    "pl.ylabel('Y1')\n",
    "pl.show()\n",
    "\n",
    "pl.plot(anscombe['x2'],anscombe['y2'],'ks')\n",
    "pl.xlabel('X2')\n",
    "pl.ylabel('Y2')\n",
    "pl.show()\n",
    "\n",
    "pl.plot(anscombe['x3'],anscombe['y3'],'ks')\n",
    "pl.xlabel('X3')\n",
    "pl.ylabel('Y3')\n",
    "pl.show()\n",
    "\n",
    "pl.plot(anscombe['x4'],anscombe['y4'],'ks')\n",
    "pl.xlabel('X4')\n",
    "pl.ylabel('Y4')\n",
    "pl.show()"
   ]
  },
  {
   "cell_type": "markdown",
   "metadata": {},
   "source": [
    "On inspection of the plots each of the XY pairs is quite different, visually. (X1,Y1) looks to be fairly randomly spread out with a positive linear slope. (X2,Y2) fits a neat curve. (X3,Y3) appears to be perfectly linear apart from one datapoint which is a massive outlier. Finally, (X4,Y4) is a vertical line aside from a solitary outlier. Each pair have quite distinctive plots. Using the seaborn package, we can further visualise the different pairs. Each plot is overlayed with the line of best fit is printed along with the 95% confidence interval."
   ]
  },
  {
   "cell_type": "code",
   "execution_count": null,
   "metadata": {},
   "outputs": [],
   "source": [
    "import seaborn as sns\n",
    "sns.lmplot(x=\"x1\", y=\"y1\", data=anscombe)\n",
    "sns.lmplot(x=\"x2\", y=\"y2\", data=anscombe)\n",
    "sns.lmplot(x=\"x3\", y=\"y3\", data=anscombe)\n",
    "sns.lmplot(x=\"x4\", y=\"y4\", data=anscombe)"
   ]
  },
  {
   "cell_type": "markdown",
   "metadata": {},
   "source": [
    "We can use the stats package from scipy to get the equations of the regression lines and quantify the predictive power of these."
   ]
  },
  {
   "cell_type": "code",
   "execution_count": null,
   "metadata": {},
   "outputs": [],
   "source": [
    "from scipy import stats  \n",
    "a=stats.linregress(x=anscombe['x1'], y=anscombe['y1'])\n",
    "b=stats.linregress(x=anscombe['x2'], y=anscombe['y2'])\n",
    "c=stats.linregress(x=anscombe['x3'], y=anscombe['y3'])\n",
    "d=stats.linregress(x=anscombe['x4'], y=anscombe['y4'])\n",
    "\n",
    "print(a)\n",
    "print(b)\n",
    "print(c)\n",
    "print(d)"
   ]
  },
  {
   "cell_type": "markdown",
   "metadata": {},
   "source": [
    "Interestingly the equations of these lines are identical (allowing for rounding. Somewhat more surpirsing is the identical R-squared and p-value coefficients. This is strange because each of the plots have drastically different shapes but the exact same regression line has the same predicitive power on each.\n",
    "\n",
    "\n",
    "\n",
    "# Descriptive Statistics \n",
    "The describe function from pandas package can be used generate high level summary about each pair."
   ]
  },
  {
   "cell_type": "code",
   "execution_count": null,
   "metadata": {},
   "outputs": [],
   "source": [
    "#Print a statistical summary about the dataset\n",
    "print(anscombe.describe()) "
   ]
  },
  {
   "cell_type": "markdown",
   "metadata": {},
   "source": [
    "## References\n",
    "\n",
    "https://matplotlib.org/api/_as_gen/matplotlib.pyplot.plot.html "
   ]
  }
 ],
 "metadata": {
  "kernelspec": {
   "display_name": "Python 3",
   "language": "python",
   "name": "python3"
  },
  "language_info": {
   "codemirror_mode": {
    "name": "ipython",
    "version": 3
   },
   "file_extension": ".py",
   "mimetype": "text/x-python",
   "name": "python",
   "nbconvert_exporter": "python",
   "pygments_lexer": "ipython3",
   "version": "3.6.5"
  }
 },
 "nbformat": 4,
 "nbformat_minor": 2
}
