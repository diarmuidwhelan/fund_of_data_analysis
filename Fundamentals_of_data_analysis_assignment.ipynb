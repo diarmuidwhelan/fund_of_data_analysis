{
 "cells": [
  {
   "cell_type": "markdown",
   "metadata": {},
   "source": [
    "#  Fundamentals of Data Analysis \n",
    "## Diarmuid Whelan Assignment 22-10-2018\n",
    "This Jupyter notebook  will analyse Anscombe’s quartet dataset across 4 areas, as follows:\n",
    " - Explain the background to the dataset – who created it, when it was created, and any speculation you can find regarding how it might have been created\n",
    " - Plot the interesting aspects of the dataset\n",
    " - Calculate the descriptive statistics of the variables in the dataset\n",
    " - Explain why the dataset is interesting, referring to the plots and statistics above\n",
    " \n",
    "## Background\n",
    "Anscombe's quartet dataset was created by and English statistician Frank Anscombe in 1973. The dataset was used in a paper published by Anscombe entitled \"Graphs in Statistical Analysis\".\n",
    "\n",
    " "
   ]
  },
  {
   "cell_type": "code",
   "execution_count": null,
   "metadata": {},
   "outputs": [],
   "source": [
    "#Load dataset and packages\n",
    "import pandas\n",
    "import numpy\n",
    "import matplotlib.pyplot as pl\n",
    "#Open the IRIS.CSV FILE\n",
    "anscombe=numpy.genfromtxt('/Users/diarmuid/untitled folder/GMIT DATA ANALYTICS/anscombe.csv',delimiter=',')\n",
    "print(anscombe)"
   ]
  },
  {
   "cell_type": "code",
   "execution_count": null,
   "metadata": {},
   "outputs": [],
   "source": []
  }
 ],
 "metadata": {
  "kernelspec": {
   "display_name": "Python 3",
   "language": "python",
   "name": "python3"
  },
  "language_info": {
   "codemirror_mode": {
    "name": "ipython",
    "version": 3
   },
   "file_extension": ".py",
   "mimetype": "text/x-python",
   "name": "python",
   "nbconvert_exporter": "python",
   "pygments_lexer": "ipython3",
   "version": "3.6.5"
  }
 },
 "nbformat": 4,
 "nbformat_minor": 2
}
